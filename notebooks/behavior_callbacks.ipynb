{
 "cells": [
  {
   "cell_type": "code",
   "execution_count": 1,
   "metadata": {
    "collapsed": false
   },
   "outputs": [],
   "source": [
    "# necessary stuff to set the paths:\n",
    "import sys\n",
    "sys.path.append(\"..\")\n",
    "\n",
    "# Import and create the connection to the simulator:\n",
    "from vrep.simulator import Simulator\n",
    "simulator = Simulator()\n",
    "\n",
    "# connect to the E-puck robot of the running V-REP scene\n",
    "epuck = simulator.get_epuck()\n",
    "\n",
    "# Start the simulator (equivalent to pressing the \"play\" button in vrep). To stop it, replace \"start\" by \"stop\"\n",
    "simulator.start()"
   ]
  },
  {
   "cell_type": "code",
   "execution_count": null,
   "metadata": {
    "collapsed": false
   },
   "outputs": [],
   "source": [
    "epuck.detect_object(\"Cup\", group=\"rear\")"
   ]
  },
  {
   "cell_type": "code",
   "execution_count": null,
   "metadata": {
    "collapsed": false
   },
   "outputs": [],
   "source": [
    "epuck._prox_aliases"
   ]
  },
  {
   "cell_type": "code",
   "execution_count": null,
   "metadata": {
    "collapsed": false
   },
   "outputs": [],
   "source": [
    "epuck._registered_objects"
   ]
  },
  {
   "cell_type": "code",
   "execution_count": null,
   "metadata": {
    "collapsed": false
   },
   "outputs": [],
   "source": [
    "epuck.proximeters(mode=\"obj\")"
   ]
  },
  {
   "cell_type": "code",
   "execution_count": 2,
   "metadata": {
    "collapsed": true
   },
   "outputs": [],
   "source": [
    "from numpy import argmin\n",
    "from numpy.random import rand\n",
    "\n",
    "    \n",
    "def random_movement():\n",
    "    # fwd_spd = robot.last_fwd_spd + (2 * rand() - 1) * 0.1\n",
    "    epuck.fwd_spd = 0.1 # max(-0.05, fwd_spd)\n",
    "    rot_spd = epuck.rot_spd + (2 * rand() - 1) * 0.1\n",
    "    epuck.rot_spd = max(-1., min(rot_spd, 1.))\n",
    "    #robot.move(fwd_spd, rot_spd)\n",
    "    \n",
    "    \n",
    "def line_following():\n",
    "    epuck.fwd_spd = 0.02\n",
    "    left, middle, right = epuck.floor_sensor()\n",
    "    rot = int(left) - int(right)\n",
    "    epuck.rot_spd = rot / 2.\n",
    "    # robot.wait(0.2)   \n",
    "    \n",
    "def obstacle_avoidance():\n",
    "    idx = epuck.min_index()\n",
    "    angle = (idx - 3.5) / 2.\n",
    "    epuck.rot_spd = angle\n",
    "    \n",
    "def object_pushing():\n",
    "    idx = epuck.min_index()\n",
    "    angle = (idx - 3.5) / 2.\n",
    "    epuck.rot_spd = - angle  "
   ]
  },
  {
   "cell_type": "code",
   "execution_count": null,
   "metadata": {
    "collapsed": false
   },
   "outputs": [],
   "source": [
    "t_push = epuck.simulation_time()\n",
    "while True:\n",
    "    if epuck.min_distance_to_object(\"20cmHigh\") < 300:\n",
    "        obstacle_avoidance()    \n",
    "    elif epuck.min_distance_to_object(\"Cup\") < 800:\n",
    "        object_pushing()\n",
    "    elif any(epuck.floor_sensor()):\n",
    "        line_following()\n",
    "    else:\n",
    "        random_movement()"
   ]
  },
  {
   "cell_type": "code",
   "execution_count": null,
   "metadata": {
    "collapsed": false
   },
   "outputs": [],
   "source": [
    "epuck.register_all_scene_objects()"
   ]
  },
  {
   "cell_type": "code",
   "execution_count": null,
   "metadata": {
    "collapsed": false
   },
   "outputs": [],
   "source": [
    "dists, objs = epuck.proximeters(group=\"all\", mode=\"obj\")"
   ]
  },
  {
   "cell_type": "code",
   "execution_count": null,
   "metadata": {
    "collapsed": false
   },
   "outputs": [],
   "source": [
    "dists, objs"
   ]
  },
  {
   "cell_type": "code",
   "execution_count": null,
   "metadata": {
    "collapsed": false
   },
   "outputs": [],
   "source": [
    "objs[epuck._prox_aliases[group]]"
   ]
  },
  {
   "cell_type": "code",
   "execution_count": null,
   "metadata": {
    "collapsed": false
   },
   "outputs": [],
   "source": [
    "from numpy import array, ones\n",
    "from random import sample\n",
    "name = 'Cup'\n",
    "group=\"all-but-rear\"\n",
    "proxs = epuck.no_detection_value * ones(8)\n",
    "objs = array([\"None\"] * 8, dtype='|S400')\n",
    "dists[epuck._prox_aliases[group]], objs[epuck._prox_aliases[group]] = epuck.proximeters(group=group, mode=\"obj\")\n",
    "print dists\n",
    "print objs\n",
    "for i, d, o in sample(zip(range(8), dists, objs), 8):\n",
    "    if o.startswith(name):\n",
    "        print i, d\n",
    "        "
   ]
  },
  {
   "cell_type": "code",
   "execution_count": null,
   "metadata": {
    "collapsed": false
   },
   "outputs": [],
   "source": [
    "x = array([\"None\"]) #, dtype='|S100')"
   ]
  },
  {
   "cell_type": "code",
   "execution_count": null,
   "metadata": {
    "collapsed": false
   },
   "outputs": [],
   "source": [
    "x[0] = \"njfnjefninef\""
   ]
  },
  {
   "cell_type": "code",
   "execution_count": null,
   "metadata": {
    "collapsed": false
   },
   "outputs": [],
   "source": [
    "x"
   ]
  },
  {
   "cell_type": "code",
   "execution_count": null,
   "metadata": {
    "collapsed": false
   },
   "outputs": [],
   "source": [
    "epuck.fwd_spd = 0.02\n",
    "while True:\n",
    "    left, middle, right = epuck.floor_sensor()\n",
    "    rot = int(left) - int(right)\n",
    "    print rot\n",
    "    epuck.rot_spd = rot / 2.\n",
    "    epuck.wait(0.2)"
   ]
  },
  {
   "cell_type": "code",
   "execution_count": null,
   "metadata": {
    "collapsed": false
   },
   "outputs": [],
   "source": [
    "epuck.floor_sensor()"
   ]
  },
  {
   "cell_type": "code",
   "execution_count": null,
   "metadata": {
    "collapsed": false
   },
   "outputs": [],
   "source": [
    "%pylab inline"
   ]
  },
  {
   "cell_type": "code",
   "execution_count": null,
   "metadata": {
    "collapsed": false
   },
   "outputs": [],
   "source": [
    "from numpy import ones\n",
    "ones(5)[(2, 3)]"
   ]
  },
  {
   "cell_type": "code",
   "execution_count": null,
   "metadata": {
    "collapsed": false
   },
   "outputs": [],
   "source": [
    "epuck.fwd_spd =0.04\n",
    "epuck.rot_spd = 0.1"
   ]
  },
  {
   "cell_type": "code",
   "execution_count": null,
   "metadata": {
    "collapsed": false
   },
   "outputs": [],
   "source": [
    "img = epuck.light_sensor_image()\n",
    "imshow(img)"
   ]
  },
  {
   "cell_type": "code",
   "execution_count": null,
   "metadata": {
    "collapsed": false
   },
   "outputs": [],
   "source": [
    "import sys\n",
    "sys.path.append(\"..\")\n",
    "from vrep.simulator import Simulator"
   ]
  },
  {
   "cell_type": "code",
   "execution_count": null,
   "metadata": {
    "collapsed": false
   },
   "outputs": [],
   "source": [
    "simulator = Simulator()\n"
   ]
  },
  {
   "cell_type": "code",
   "execution_count": null,
   "metadata": {
    "collapsed": false
   },
   "outputs": [],
   "source": [
    "for suffix in [\"\"] + [\"#\" + str(i) for i in range(4)]:\n",
    "    simulator.get_epuck(suffix)"
   ]
  },
  {
   "cell_type": "code",
   "execution_count": null,
   "metadata": {
    "collapsed": false
   },
   "outputs": [],
   "source": [
    "simulator.start()"
   ]
  },
  {
   "cell_type": "code",
   "execution_count": null,
   "metadata": {
    "collapsed": false
   },
   "outputs": [],
   "source": [
    "suffix"
   ]
  },
  {
   "cell_type": "code",
   "execution_count": null,
   "metadata": {
    "collapsed": false
   },
   "outputs": [],
   "source": [
    "epuck2 = simulator.get_epuck(\"\")"
   ]
  },
  {
   "cell_type": "code",
   "execution_count": null,
   "metadata": {
    "collapsed": false
   },
   "outputs": [],
   "source": [
    "epuck.stop()\n",
    "epuck.start()"
   ]
  },
  {
   "cell_type": "code",
   "execution_count": null,
   "metadata": {
    "collapsed": false
   },
   "outputs": [],
   "source": [
    "epuck2.left_spd -= 0.2"
   ]
  },
  {
   "cell_type": "code",
   "execution_count": null,
   "metadata": {
    "collapsed": false
   },
   "outputs": [],
   "source": [
    "epuck.right_spd = -0.8499999999999999"
   ]
  },
  {
   "cell_type": "code",
   "execution_count": null,
   "metadata": {
    "collapsed": false
   },
   "outputs": [],
   "source": [
    "epuck.fwd_spd, epuck.rot_spd = 0.6, 0.6"
   ]
  },
  {
   "cell_type": "code",
   "execution_count": null,
   "metadata": {
    "collapsed": false
   },
   "outputs": [],
   "source": [
    "epuck.fwd_spd = 0."
   ]
  },
  {
   "cell_type": "code",
   "execution_count": null,
   "metadata": {
    "collapsed": false
   },
   "outputs": [],
   "source": [
    "epuck.left_spd, epuck.right_spd, epuck.fwd_spd, epuck.rot_spd"
   ]
  },
  {
   "cell_type": "code",
   "execution_count": null,
   "metadata": {
    "collapsed": false
   },
   "outputs": [],
   "source": [
    "import os\n",
    "os.chdir(\"notebooks\")"
   ]
  },
  {
   "cell_type": "code",
   "execution_count": null,
   "metadata": {
    "collapsed": true
   },
   "outputs": [],
   "source": [
    "from vrep import vrep"
   ]
  },
  {
   "cell_type": "code",
   "execution_count": null,
   "metadata": {
    "collapsed": false
   },
   "outputs": [],
   "source": [
    "epuck.register_all_scene_objects()"
   ]
  },
  {
   "cell_type": "code",
   "execution_count": null,
   "metadata": {
    "collapsed": false
   },
   "outputs": [],
   "source": [
    "epuck.proximeters(mode=\"obj\")"
   ]
  },
  {
   "cell_type": "code",
   "execution_count": null,
   "metadata": {
    "collapsed": false
   },
   "outputs": [],
   "source": [
    "res, handles,_ , _,names = vrep.simxGetObjectGroupData(epuck._clientID, vrep.sim_object_shape_type, 0, vrep.simx_opmode_streaming)"
   ]
  },
  {
   "cell_type": "code",
   "execution_count": null,
   "metadata": {
    "collapsed": false
   },
   "outputs": [],
   "source": [
    "len(handles)"
   ]
  },
  {
   "cell_type": "code",
   "execution_count": null,
   "metadata": {
    "collapsed": true
   },
   "outputs": [],
   "source": [
    "for n in names:\n",
    "    epuck.register_object(n)"
   ]
  },
  {
   "cell_type": "code",
   "execution_count": null,
   "metadata": {
    "collapsed": false
   },
   "outputs": [],
   "source": [
    "vrep.simxReadProximitySensor(epuck._clientID, epuck._prox_handles[3], vrep.simx_opmode_buffer)"
   ]
  },
  {
   "cell_type": "code",
   "execution_count": null,
   "metadata": {
    "collapsed": true
   },
   "outputs": [],
   "source": [
    "x = [\"1\", \"2\", \"3\"]"
   ]
  },
  {
   "cell_type": "code",
   "execution_count": null,
   "metadata": {
    "collapsed": false
   },
   "outputs": [],
   "source": [
    "from numpy import array\n",
    "list(array(x)[[1, 2]])"
   ]
  },
  {
   "cell_type": "code",
   "execution_count": null,
   "metadata": {
    "collapsed": false
   },
   "outputs": [],
   "source": [
    "array(x)[[1, 2]]"
   ]
  },
  {
   "cell_type": "code",
   "execution_count": null,
   "metadata": {
    "collapsed": false
   },
   "outputs": [],
   "source": [
    "# necessary stuff to set the paths:\n",
    "import sys\n",
    "sys.path.append(\"..\")\n",
    "\n",
    "# Import and create the connection to the simulator:\n",
    "from vrep.simulator import Simulator\n",
    "simulator = Simulator()\n",
    "\n",
    "# connect to the E-puck robot of the running V-REP scene\n",
    "epuck = simulator.get_epuck()\n",
    "\n",
    "# Start the simulator (equivalent to pressing the \"play\" button in vrep). To stop it, replace \"start\" by \"stop\"\n",
    "simulator.start()"
   ]
  },
  {
   "cell_type": "code",
   "execution_count": null,
   "metadata": {
    "collapsed": false
   },
   "outputs": [],
   "source": [
    "from numpy import argmin\n",
    "from numpy.random import rand\n",
    "\n",
    "def always(robot):\n",
    "    return True\n",
    "\n",
    "def something_close(robot):\n",
    "    return robot.is_min_distance(group=\"all-but-rear\", min_dist=500) \n",
    "\n",
    "def something_really_close(robot):\n",
    "    return robot.is_min_distance(group=\"front\", min_dist=300) \n",
    "\n",
    "def front_obstacle(robot):\n",
    "    return robot.is_min_distance(group=\"front\", min_dist=100)  \n",
    "\n",
    "def on_a_line(robot):\n",
    "    res = any(robot.floor_sensor())\n",
    "    return res\n",
    "\n",
    "def not_on_a_line(robot):\n",
    "    return not on_a_line(robot)\n",
    "\n",
    "def move_forward(robot):\n",
    "    robot.move(0.2)\n",
    "    \n",
    "def stop(robot):\n",
    "    robot.move(0.)\n",
    "    \n",
    "def rear(robot):\n",
    "    robot.fwd_spd = - 0.1\n",
    "    \n",
    "def random_movement(robot):\n",
    "    # fwd_spd = robot.last_fwd_spd + (2 * rand() - 1) * 0.1\n",
    "    robot.fwd_spd = 0.1 # max(-0.05, fwd_spd)\n",
    "    rot_spd = robot.rot_spd + (2 * rand() - 1) * 0.1\n",
    "    robot.rot_spd = max(-1., min(rot_spd, 1.))\n",
    "    #robot.move(fwd_spd, rot_spd)\n",
    "    \n",
    "def speed_distance(epuck):\n",
    "    distance = min(epuck.proximeters()[2:4])\n",
    "    epuck.fwd_spd = (distance - 100) / 2000.\n",
    "    \n",
    "def avoid_continuous(robot):\n",
    "    proxs = robot.proximeters(\"all-but-rear\")\n",
    "    proxs[proxs == 0.] = 2000\n",
    "    danger = argmin(proxs)\n",
    "    angle = danger - 2.5\n",
    "    robot.rot_spd = 1 / angle #angle / 6.\n",
    "\n",
    "    \n",
    "def line_following(robot):\n",
    "    robot.fwd_spd = 0.02\n",
    "    left, middle, right = robot.floor_sensor()\n",
    "    rot = int(left) - int(right)\n",
    "    robot.rot_spd = rot / 2.\n",
    "    # robot.wait(0.2)   \n",
    "    \n",
    "def obstacle_avoidance(robot):\n",
    "    idx = robot.min_index()\n",
    "    angle = (idx - 3.5) / 2.\n",
    "    robot.rot_spd = angle\n",
    "    \n",
    "def object_pushing(robot):\n",
    "    idx = robot.min_index()\n",
    "    angle = (idx - 3.5) / 2.\n",
    "    robot.rot_spd = - angle  "
   ]
  },
  {
   "cell_type": "code",
   "execution_count": null,
   "metadata": {
    "collapsed": false
   },
   "outputs": [],
   "source": [
    "epuck.proximeters(mode=\"obj\")"
   ]
  },
  {
   "cell_type": "code",
   "execution_count": null,
   "metadata": {
    "collapsed": false
   },
   "outputs": [],
   "source": [
    "for robot in simulator.robots:\n",
    "    robot.attach_behavior(random_movement, not_on_a_line)\n",
    "    robot.attach_behavior(rear, something_really_close)\n",
    "    robot.attach_behavior(avoid_continuous, something_close)\n",
    "    robot.attach_behavior(line_following, on_a_line)"
   ]
  },
  {
   "cell_type": "code",
   "execution_count": null,
   "metadata": {
    "collapsed": false
   },
   "outputs": [],
   "source": [
    "epuck._behaviors[\"line_following\"]._running.is_set()"
   ]
  },
  {
   "cell_type": "code",
   "execution_count": null,
   "metadata": {
    "collapsed": false
   },
   "outputs": [],
   "source": [
    "for robot in simulator.robots:\n",
    "    robot.start_all_behaviors()\n"
   ]
  },
  {
   "cell_type": "code",
   "execution_count": null,
   "metadata": {
    "collapsed": false
   },
   "outputs": [],
   "source": [
    "epuck.stop_behavior(\"random_movement\")"
   ]
  },
  {
   "cell_type": "code",
   "execution_count": null,
   "metadata": {
    "collapsed": true
   },
   "outputs": [],
   "source": [
    "epuck.attach_behavior(random_movement, not_on_a_line)"
   ]
  },
  {
   "cell_type": "code",
   "execution_count": null,
   "metadata": {
    "collapsed": true
   },
   "outputs": [],
   "source": [
    "epuck.start_behavior(\"random_movement\")"
   ]
  },
  {
   "cell_type": "code",
   "execution_count": null,
   "metadata": {
    "collapsed": false
   },
   "outputs": [],
   "source": [
    "res, resol, image = vrep.simxGetVisionSensorImage(epuck._clientID, epuck._light_sensor, options=0, operationMode=vrep.simx_opmode_buffer)"
   ]
  },
  {
   "cell_type": "code",
   "execution_count": null,
   "metadata": {
    "collapsed": false
   },
   "outputs": [],
   "source": [
    "import os\n",
    "os.system(\"beep -f 555 -l 460\")"
   ]
  },
  {
   "cell_type": "code",
   "execution_count": null,
   "metadata": {
    "collapsed": false
   },
   "outputs": [],
   "source": [
    "epuck.attach_behavior(avoid_continuous, something_close)"
   ]
  },
  {
   "cell_type": "code",
   "execution_count": null,
   "metadata": {
    "collapsed": false
   },
   "outputs": [],
   "source": [
    "def f(): return 1, 2"
   ]
  },
  {
   "cell_type": "code",
   "execution_count": null,
   "metadata": {
    "collapsed": false
   },
   "outputs": [],
   "source": [
    "a = f()"
   ]
  },
  {
   "cell_type": "code",
   "execution_count": null,
   "metadata": {
    "collapsed": false
   },
   "outputs": [],
   "source": [
    "epuck.start_behavior(\"avoid_continuous\")"
   ]
  },
  {
   "cell_type": "code",
   "execution_count": null,
   "metadata": {
    "collapsed": false
   },
   "outputs": [],
   "source": [
    "epuck.stop()"
   ]
  },
  {
   "cell_type": "code",
   "execution_count": null,
   "metadata": {
    "collapsed": false
   },
   "outputs": [],
   "source": [
    "epuck.start()"
   ]
  },
  {
   "cell_type": "code",
   "execution_count": null,
   "metadata": {
    "collapsed": false
   },
   "outputs": [],
   "source": [
    "epuck.start_behavior(\"avoid_continuous\")"
   ]
  },
  {
   "cell_type": "code",
   "execution_count": null,
   "metadata": {
    "collapsed": false
   },
   "outputs": [],
   "source": [
    "epuck.detach_behavior(\"avoid_continuous\")"
   ]
  },
  {
   "cell_type": "code",
   "execution_count": null,
   "metadata": {
    "collapsed": false
   },
   "outputs": [],
   "source": [
    "epuck.stop_behavior(\"move_forward\")"
   ]
  },
  {
   "cell_type": "code",
   "execution_count": null,
   "metadata": {
    "collapsed": false
   },
   "outputs": [],
   "source": [
    "epuck._behaviors"
   ]
  },
  {
   "cell_type": "code",
   "execution_count": null,
   "metadata": {
    "collapsed": false
   },
   "outputs": [],
   "source": []
  },
  {
   "cell_type": "code",
   "execution_count": null,
   "metadata": {
    "collapsed": false
   },
   "outputs": [],
   "source": []
  },
  {
   "cell_type": "code",
   "execution_count": null,
   "metadata": {
    "collapsed": false
   },
   "outputs": [],
   "source": [
    "from threading import Condition, Thread\n",
    "import time\n",
    "\n",
    "def waiter(cond):\n",
    "    cond.acquire()\n",
    "    print \"Waiting ...\"\n",
    "    cond.wait()\n",
    "    print \"Done\"\n",
    "    cond.release()\n",
    "    \n",
    "def notifier(cond):\n",
    "    cond.acquire()\n",
    "    for i in range(10):\n",
    "        print \"waiting 1s\"\n",
    "        time.sleep(1)\n",
    "    cond.notify()\n",
    "    cond.release()\n",
    "    \n",
    "condition = Condition()\n",
    "w = Thread(target=waiter, args=(condition,))\n",
    "n = Thread(target=notifier, args=(condition,))"
   ]
  },
  {
   "cell_type": "code",
   "execution_count": null,
   "metadata": {
    "collapsed": false
   },
   "outputs": [],
   "source": [
    "w.start()"
   ]
  },
  {
   "cell_type": "code",
   "execution_count": null,
   "metadata": {
    "collapsed": false
   },
   "outputs": [],
   "source": [
    "n.start()"
   ]
  },
  {
   "cell_type": "code",
   "execution_count": null,
   "metadata": {
    "collapsed": false
   },
   "outputs": [],
   "source": []
  },
  {
   "cell_type": "code",
   "execution_count": null,
   "metadata": {
    "collapsed": false
   },
   "outputs": [],
   "source": []
  },
  {
   "cell_type": "code",
   "execution_count": null,
   "metadata": {
    "collapsed": false
   },
   "outputs": [],
   "source": []
  },
  {
   "cell_type": "code",
   "execution_count": null,
   "metadata": {
    "collapsed": false
   },
   "outputs": [],
   "source": []
  }
 ],
 "metadata": {
  "kernelspec": {
   "display_name": "Python 2",
   "language": "python",
   "name": "python2"
  },
  "language_info": {
   "codemirror_mode": {
    "name": "ipython",
    "version": 2
   },
   "file_extension": ".py",
   "mimetype": "text/x-python",
   "name": "python",
   "nbconvert_exporter": "python",
   "pygments_lexer": "ipython2",
   "version": "2.7.9"
  }
 },
 "nbformat": 4,
 "nbformat_minor": 0
}
