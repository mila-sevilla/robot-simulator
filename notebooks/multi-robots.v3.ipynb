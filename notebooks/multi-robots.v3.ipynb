{
 "metadata": {
  "kernelspec": {
   "display_name": "Python 2",
   "language": "python",
   "name": "python2"
  },
  "language_info": {
   "codemirror_mode": {
    "name": "ipython",
    "version": 2
   },
   "file_extension": ".py",
   "mimetype": "text/x-python",
   "name": "python",
   "nbconvert_exporter": "python",
   "pygments_lexer": "ipython2",
   "version": "2.7.9"
  },
  "name": ""
 },
 "nbformat": 3,
 "nbformat_minor": 0,
 "worksheets": [
  {
   "cells": [
    {
     "cell_type": "heading",
     "level": 1,
     "metadata": {},
     "source": [
      "Dealing with several robots"
     ]
    },
    {
     "cell_type": "markdown",
     "metadata": {},
     "source": [
      "Open the `epuck.ttt` scene as usual and copy-paste the ePuck robot several times (let's have 5 ePucks in total). When you copy-paste an object in V-REP, the copy appears at the exact same place as the original, so you have to move it a bit. If you look at the scene hierarchy, you will see that the name of the original robot is `ePuck` and the names of the copies are `ePuck#0` ... `ePuck#3`."
     ]
    },
    {
     "cell_type": "markdown",
     "metadata": {},
     "source": [
      "Connect to the simulator as usual:"
     ]
    },
    {
     "cell_type": "code",
     "collapsed": false,
     "input": [
      "# necessary stuff to set the paths:\n",
      "import sys\n",
      "sys.path.append(\"..\")\n",
      "\n",
      "# Import and create the connection to the simulator:\n",
      "from vrep.simulator import Simulator\n",
      "simulator = Simulator()"
     ],
     "language": "python",
     "metadata": {},
     "outputs": [],
     "prompt_number": 1
    },
    {
     "cell_type": "markdown",
     "metadata": {},
     "source": [
      "Now let's get each of the ePucks as a Python object. To do so, we use `simulator.get_epuck()`. Without any argument (empty parentheses), it will return the first robot (the one named `ePuck`). Let's try it:"
     ]
    },
    {
     "cell_type": "code",
     "collapsed": false,
     "input": [
      "epuck = simulator.get_epuck()"
     ],
     "language": "python",
     "metadata": {},
     "outputs": [],
     "prompt_number": 2
    },
    {
     "cell_type": "markdown",
     "metadata": {},
     "source": [
      "Let's check it is working correctly. First start the simulator:"
     ]
    },
    {
     "cell_type": "code",
     "collapsed": false,
     "input": [
      "simulator.start()"
     ],
     "language": "python",
     "metadata": {},
     "outputs": [],
     "prompt_number": 3
    },
    {
     "cell_type": "markdown",
     "metadata": {},
     "source": [
      "Then send a command to the robot to see if it moves:"
     ]
    },
    {
     "cell_type": "code",
     "collapsed": false,
     "input": [
      "epuck.rot_spd = 0.2"
     ],
     "language": "python",
     "metadata": {},
     "outputs": [],
     "prompt_number": 4
    },
    {
     "cell_type": "markdown",
     "metadata": {},
     "source": [
      "To get another robot, we have to tell `simulator.get_epuck()` the suffix of its name. For example, the suffix of the robot named `ePuck#0` is `\"#0\"`, the suffix of `ePuck#1` is `\"#1\"`, etc...\n",
      "\n",
      "So, to get `ePuck#0` we write:"
     ]
    },
    {
     "cell_type": "code",
     "collapsed": false,
     "input": [
      "another_epuck = simulator.get_epuck(\"#0\")"
     ],
     "language": "python",
     "metadata": {},
     "outputs": [],
     "prompt_number": 5
    },
    {
     "cell_type": "markdown",
     "metadata": {},
     "source": [
      "Let's check if we can make it move as well:"
     ]
    },
    {
     "cell_type": "code",
     "collapsed": false,
     "input": [
      "another_epuck.rot_spd = -0.2"
     ],
     "language": "python",
     "metadata": {},
     "outputs": [],
     "prompt_number": 6
    },
    {
     "cell_type": "markdown",
     "metadata": {},
     "source": [
      "Note that `simulator` maintains an list of all the requested robots (not all the robots in the scene, only those who have been requested programatically):"
     ]
    },
    {
     "cell_type": "code",
     "collapsed": false,
     "input": [
      "simulator.robots"
     ],
     "language": "python",
     "metadata": {},
     "outputs": [
      {
       "metadata": {},
       "output_type": "pyout",
       "prompt_number": 7,
       "text": [
        "[<robots.epuck.Epuck at 0x7fe6402145d0>,\n",
        " <robots.epuck.Epuck at 0x7fe640214450>]"
       ]
      }
     ],
     "prompt_number": 7
    },
    {
     "cell_type": "markdown",
     "metadata": {},
     "source": [
      "Above we see that `simulator.robots` contains two ePucks, in the order that we have requested them. Therefore, writing"
     ]
    },
    {
     "cell_type": "code",
     "collapsed": false,
     "input": [
      "simulator.robots[0].rot_spd = 0.5"
     ],
     "language": "python",
     "metadata": {},
     "outputs": [],
     "prompt_number": 8
    },
    {
     "cell_type": "markdown",
     "metadata": {},
     "source": [
      "is equivalent to write:"
     ]
    },
    {
     "cell_type": "code",
     "collapsed": false,
     "input": [
      "epuck.rot_spd = 0.5"
     ],
     "language": "python",
     "metadata": {},
     "outputs": [],
     "prompt_number": 9
    },
    {
     "cell_type": "markdown",
     "metadata": {},
     "source": [
      "The first notation can be useful if you want to perform the same operation on all the robots. For example, let's make them all rotate the same way:"
     ]
    },
    {
     "cell_type": "code",
     "collapsed": false,
     "input": [
      "for robot in simulator.robots:\n",
      "    robot.rot_spd = 2."
     ],
     "language": "python",
     "metadata": {},
     "outputs": [],
     "prompt_number": 14
    },
    {
     "cell_type": "markdown",
     "metadata": {},
     "source": [
      "Try to make the other ePucks move:"
     ]
    },
    {
     "cell_type": "code",
     "collapsed": false,
     "input": [],
     "language": "python",
     "metadata": {},
     "outputs": [],
     "prompt_number": null
    }
   ],
   "metadata": {}
  }
 ]
}