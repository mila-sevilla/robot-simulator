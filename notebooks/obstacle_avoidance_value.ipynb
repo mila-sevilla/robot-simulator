{
 "cells": [
  {
   "cell_type": "markdown",
   "metadata": {},
   "source": [
    "**Reminder:** First import the functions `open_session` and `close_session`. Then, obtain a reference to the simulator and the E-Puck by calling `open_session`. Since there are three epucks in the scene, we call it like this:"
   ]
  },
  {
   "cell_type": "code",
   "execution_count": 1,
   "metadata": {
    "collapsed": false
   },
   "outputs": [],
   "source": [
    "from simulator_interface import open_session, close_session\n",
    "simulator, epuck = open_session(n_epucks=1)"
   ]
  },
  {
   "cell_type": "markdown",
   "metadata": {
    "collapsed": false
   },
   "source": [
    "Then execute the code you will encounter in the notebook or the code you will write for answering the questions. Whenever you want to restart from scratch (e.g. because something goes wrong or because you want to restart from scratch), first close the session by executing:"
   ]
  },
  {
   "cell_type": "code",
   "execution_count": 3,
   "metadata": {
    "collapsed": false
   },
   "outputs": [],
   "source": [
    "close_session(simulator, epuck)"
   ]
  },
  {
   "cell_type": "markdown",
   "metadata": {},
   "source": [
    "This will properly close all the running processes. Then restart the notebook (`Kernel -> Restart`) and open the session again:"
   ]
  },
  {
   "cell_type": "code",
   "execution_count": 2,
   "metadata": {
    "collapsed": false
   },
   "outputs": [
    {
     "name": "stdout",
     "output_type": "stream",
     "text": [
      "Behavior obstacle_avoidance started\n",
      "Routine image_value started\n"
     ]
    }
   ],
   "source": [
    "from time import sleep\n",
    "\n",
    "# First detach all behavior on both robots:\n",
    "epuck.detach_all_behaviors()\n",
    "epuck.detach_all_routines()\n",
    "epuck.stop()\n",
    "    \n",
    "# define the obstacle_avoidance behavior with a weight of 1. This is indicated by the third value returned by the function:\n",
    "def obstacle_avoidance(robot):\n",
    "    left, right = robot.prox_activations(tracked_objects=[\"20cm\", \"Tree\", \"Cup\"])\n",
    "    robot.value = 1. - (left + right ) / 2.0\n",
    "    left_wheel = 1 - right\n",
    "    right_wheel = 1 - left\n",
    "    return left_wheel, right_wheel\n",
    "\n",
    "def image_value(robot): \n",
    "    img = robot.camera_image()\n",
    "    epuck.add_log(\"value\", epuck.value)\n",
    "    epuck.add_log(\"image\", img)\n",
    "\n",
    "\n",
    "# Attach and start both behaviors on both robots:\n",
    "epuck.max_speed = 10.\n",
    "epuck.attach_behavior(obstacle_avoidance, freq=10.0)\n",
    "epuck.attach_routine(image_value, freq = 1.0)\n",
    "epuck.start_all_behaviors()\n",
    "sleep(1)\n",
    "epuck.start_all_routines()"
   ]
  },
  {
   "cell_type": "code",
   "execution_count": 3,
   "metadata": {
    "collapsed": false
   },
   "outputs": [],
   "source": [
    "epuck.max_speed = 20."
   ]
  },
  {
   "cell_type": "code",
   "execution_count": 4,
   "metadata": {
    "collapsed": false
   },
   "outputs": [],
   "source": [
    "epuck.detach_all_behaviors()\n",
    "epuck.detach_all_routines()\n",
    "epuck.stop()\n"
   ]
  },
  {
   "cell_type": "code",
   "execution_count": 9,
   "metadata": {
    "collapsed": true
   },
   "outputs": [],
   "source": [
    "values = epuck.get_log(\"value\")\n",
    "images = epuck.get_log(\"image\")"
   ]
  },
  {
   "cell_type": "code",
   "execution_count": 11,
   "metadata": {
    "collapsed": false
   },
   "outputs": [
    {
     "name": "stdout",
     "output_type": "stream",
     "text": [
      "Populating the interactive namespace from numpy and matplotlib\n",
      "0.0899978444449\n"
     ]
    },
    {
     "data": {
      "text/plain": [
       "<matplotlib.image.AxesImage at 0x7f325da62dd0>"
      ]
     },
     "execution_count": 11,
     "metadata": {},
     "output_type": "execute_result"
    },
    {
     "data": {
      "image/png": "[encoded data removed]",
      "text/plain": [
       "<matplotlib.figure.Figure at 0x7f32a4066b50>"
      ]
     },
     "metadata": {},
     "output_type": "display_data"
    }
   ],
   "source": [
    "%pylab inline\n",
    "\n",
    "i = argmin(values)\n",
    "print values[i]\n",
    "imshow(images[i], origin='lower')\n"
   ]
  }
 ],
 "metadata": {
  "kernelspec": {
   "display_name": "Python 2",
   "language": "python",
   "name": "python2"
  },
  "language_info": {
   "codemirror_mode": {
    "name": "ipython",
    "version": 2
   },
   "file_extension": ".py",
   "mimetype": "text/x-python",
   "name": "python",
   "nbconvert_exporter": "python",
   "pygments_lexer": "ipython2",
   "version": "2.7.12"
  }
 },
 "nbformat": 4,
 "nbformat_minor": 0
}
