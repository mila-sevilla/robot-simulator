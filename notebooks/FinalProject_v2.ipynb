{
 "cells": [
  {
   "cell_type": "markdown",
   "metadata": {},
   "source": [
    "### Initiate session"
   ]
  },
  {
   "cell_type": "code",
   "execution_count": 1,
   "metadata": {},
   "outputs": [],
   "source": [
    "#Open Session\n",
    "from simulator_interface import open_session, close_session\n",
    "#assigning variable names for the session\n",
    "simulator, wolf, sheep = open_session(n_epucks=2)\n"
   ]
  },
  {
   "cell_type": "code",
   "execution_count": null,
   "metadata": {},
   "outputs": [],
   "source": [
    "close_session(simulator) # Just in case something goes wrong, in order to restart the session, execute this cell and select also Kernel - Restart and then open session again"
   ]
  },
  {
   "cell_type": "markdown",
   "metadata": {},
   "source": [
    "### Defining basic behaviors (fear, aggression, obstacle avoidance)"
   ]
  },
  {
   "cell_type": "code",
   "execution_count": 2,
   "metadata": {},
   "outputs": [],
   "source": [
    "#Defining fear behavior -- if other ePuck comes near, accelerate speed to get away from other ePuck\n",
    "def fear(robot):\n",
    "    left, right = robot.prox_activations(tracked_objects=[\"ePuck\"])\n",
    "    left_wheel = left + 2\n",
    "    right_wheel = right + 2\n",
    "    return left_wheel, right_wheel\n",
    "\n",
    "#Defining aggressive behavior -- if other ePuck comes near, accelerate speed towards other ePuck\n",
    "def aggression(robot):\n",
    "    left, right = robot.prox_activations(tracked_objects=[\"ePuck\"])\n",
    "    left_wheel = right + 1 \n",
    "    right_wheel = left + 1\n",
    "    return left_wheel, right_wheel\n",
    "\n",
    "#Defining obstacle avoidance behavior -- if the proximity sensors register a wall or a tree, ePuck turns away\n",
    "def obstacle_avoidance(robot):\n",
    "    left, right = robot.prox_activations(tracked_objects=[\"20cmHighWall\", \"Tree\"])  \n",
    "    sum_of_proxs = left + right\n",
    "    wheel_activation_1 = 1.0 - sum_of_proxs / 2.0\n",
    "    wheel_activation_2 = 1.0 - sum_of_proxs / 1.5  \n",
    "    return wheel_activation_1, wheel_activation_2"
   ]
  },
  {
   "cell_type": "markdown",
   "metadata": {},
   "source": [
    "### Define behavior so epucks only seek out food when hungry"
   ]
  },
  {
   "cell_type": "code",
   "execution_count": 3,
   "metadata": {},
   "outputs": [
    {
     "data": {
      "text/plain": [
       "False"
      ]
     },
     "execution_count": 3,
     "metadata": {},
     "output_type": "execute_result"
    }
   ],
   "source": [
    "wolf.has_eaten() #Tells us if the wolf robot has eaten a sphere since the last call of the function"
   ]
  },
  {
   "cell_type": "code",
   "execution_count": 4,
   "metadata": {},
   "outputs": [
    {
     "name": "stdout",
     "output_type": "stream",
     "text": [
      "Routine sphere_apparition started\n",
      "Routine eating started\n"
     ]
    }
   ],
   "source": [
    "# Starting sphere apparition in the environment:\n",
    "simulator.start_sphere_apparition(period=3)"
   ]
  },
  {
   "cell_type": "code",
   "execution_count": 5,
   "metadata": {},
   "outputs": [],
   "source": [
    "#A function to compute the glucose level of the robot\n",
    "def foraging_drive(robot): \n",
    "    if robot.has_eaten():\n",
    "        robot.glucose_level += 0.2  # if the robot has eaten a sphere, increase its glucose level by 0.2\n",
    "    else:\n",
    "        robot.glucose_level -= 0.03  # otherwise (nothing eaten), decrease the glucose level by 0.03\n",
    "    \n",
    "    # The line below bounds the value of the glucose level between 0 and 1\n",
    "    robot.glucose_level = min(1., max(robot.glucose_level, 0.))\n",
    "\n",
    "#Defining behaviors for the robot to search for food when hungry/ glucose level low (foraging) \n",
    "def foraging(robot):\n",
    "    left, right = robot.prox_activations(tracked_objects=[\"Sphere\"])\n",
    "    left_activation = right\n",
    "    right_activation = left\n",
    "    return left_activation, right_activation, 1 - robot.glucose_level\n",
    "\n",
    "#Defining behavior to neglect food when full/ glucose level high (neglecting)    \n",
    "def neglecting(robot):\n",
    "    left, right = robot.prox_activations(tracked_objects=[\"Sphere\"])\n",
    "    left_activation = left\n",
    "    right_activation = right\n",
    "    return left_activation, right_activation, robot.glucose_level"
   ]
  },
  {
   "cell_type": "code",
   "execution_count": 6,
   "metadata": {},
   "outputs": [],
   "source": [
    "#Defining initial glucose level for wolf and sheep robot (wolf is more hungry at the beginning)\n",
    "wolf.glucose_level = 0.5\n",
    "sheep.glucose_level = 0.8"
   ]
  },
  {
   "cell_type": "markdown",
   "metadata": {},
   "source": [
    "### Attach and start all behaviors and routines"
   ]
  },
  {
   "cell_type": "code",
   "execution_count": 7,
   "metadata": {},
   "outputs": [
    {
     "name": "stdout",
     "output_type": "stream",
     "text": [
      "Behavior fear started\n",
      "Behavior obstacle_avoidance started\n",
      "Behavior foraging started\n",
      "Behavior neglecting started\n",
      "Behavior aggression started\n",
      "Behavior obstacle_avoidance started\n",
      "Behavior foraging started\n",
      "Behavior neglecting started\n",
      "Routine foraging_drive started\n",
      "Routine foraging_drive started\n"
     ]
    }
   ],
   "source": [
    "wolf.detach_all_behaviors()\n",
    "sheep.detach_all_behaviors()\n",
    "\n",
    "# Then we attach the desired behaviors to epuck1/ the sheep:\n",
    "sheep.attach_behavior(fear, freq=10)\n",
    "sheep.attach_behavior(obstacle_avoidance, freq=10)\n",
    "sheep.attach_behavior(foraging, freq=10)\n",
    "sheep.attach_behavior(neglecting, freq=10)\n",
    "sheep.attach_routine(foraging_drive, freq=1)\n",
    "# Then we attach also the corresponding behaviors to epuck2/ the wolf:\n",
    "wolf.attach_behavior(aggression, freq=10)\n",
    "wolf.attach_behavior(obstacle_avoidance, freq=10)\n",
    "wolf.attach_behavior(foraging, freq=10)\n",
    "wolf.attach_behavior(neglecting, freq=10)\n",
    "wolf.attach_routine(foraging_drive, freq=1)\n",
    "\n",
    "sheep.start_all_behaviors()  # This will start all attached behaviors (fear, obstacle_avoidance etc.) for sheep\n",
    "wolf.start_all_behaviors()  # This will start all attached behaviors (aggression, obstacle_avoidance etc.) for wolf\n",
    "wolf.start_routine(foraging_drive) # This will start the foraging_drive routine for wolf\n",
    "sheep.start_routine(foraging_drive) # This will start the foraging_drive routine for sheep"
   ]
  },
  {
   "cell_type": "code",
   "execution_count": null,
   "metadata": {},
   "outputs": [],
   "source": []
  },
  {
   "cell_type": "code",
   "execution_count": null,
   "metadata": {},
   "outputs": [],
   "source": []
  }
 ],
 "metadata": {
  "kernelspec": {
   "display_name": "Python 3",
   "language": "python",
   "name": "python3"
  },
  "language_info": {
   "codemirror_mode": {
    "name": "ipython",
    "version": 3
   },
   "file_extension": ".py",
   "mimetype": "text/x-python",
   "name": "python",
   "nbconvert_exporter": "python",
   "pygments_lexer": "ipython3",
   "version": "3.6.5"
  }
 },
 "nbformat": 4,
 "nbformat_minor": 2
}
