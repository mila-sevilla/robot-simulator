{
 "cells": [
  {
   "cell_type": "code",
   "execution_count": 5,
   "metadata": {},
   "outputs": [],
   "source": [
    "from simulator_interface import open_session, close_session\n",
    "\n",
    "simulator, wolf, sheep = open_session(n_epucks=2)\n"
   ]
  },
  {
   "cell_type": "code",
   "execution_count": 6,
   "metadata": {},
   "outputs": [],
   "source": [
    "def fear(robot):\n",
    "    left, right = robot.prox_activations(tracked_objects=[\"ePuck\"])\n",
    "    left_wheel = left + 2\n",
    "    right_wheel = right + 2\n",
    "    return left_wheel, right_wheel\n",
    "\n",
    "def aggression(robot):\n",
    "    left, right = robot.prox_activations(tracked_objects=[\"ePuck\"])\n",
    "    left_wheel = right + 1 \n",
    "    right_wheel = left + 1\n",
    "    return left_wheel, right_wheel\n",
    "\n",
    "def obstacle_avoidance(robot):\n",
    "    left, right = robot.prox_activations(tracked_objects=[\"20cmHigh\", \"Tree\"])\n",
    "    wheel_left = 1- right\n",
    "    wheel_right = 1- right\n",
    "    return wheel_left, wheel_right"
   ]
  },
  {
   "cell_type": "code",
   "execution_count": 7,
   "metadata": {},
   "outputs": [
    {
     "name": "stdout",
     "output_type": "stream",
     "text": [
      "Behavior fear started\n",
      "Behavior obstacle_avoidance started\n",
      "Behavior aggression started\n",
      "Behavior obstacle_avoidance started\n"
     ]
    }
   ],
   "source": [
    "wolf.detach_all_behaviors()\n",
    "sheep.detach_all_behaviors()\n",
    "\n",
    "# Then we attach the obstacle avoidance behavior to epuck1:\n",
    "sheep.attach_behavior(fear, freq=10)\n",
    "sheep.attach_behavior(obstacle_avoidance, freq=10)\n",
    "# Then we attach both the obstacle avoidance and the foraging behavior to epuck2:\n",
    "wolf.attach_behavior(aggression, freq=10)\n",
    "wolf.attach_behavior(obstacle_avoidance, freq=10)\n",
    "# Finally, we start the attached behaviors on each epuck\n",
    "sheep.start_all_behaviors()  # This will start obstacle_avoidance on epuck1 (because it is the only behavior we have attached to epuck1)\n",
    "wolf.start_all_behaviors()  # This will start both obstacle_av"
   ]
  },
  {
   "cell_type": "code",
   "execution_count": 4,
   "metadata": {},
   "outputs": [],
   "source": [
    "close_session(simulator)"
   ]
  },
  {
   "cell_type": "code",
   "execution_count": null,
   "metadata": {},
   "outputs": [],
   "source": []
  }
 ],
 "metadata": {
  "kernelspec": {
   "display_name": "Python 3",
   "language": "python",
   "name": "python3"
  },
  "language_info": {
   "codemirror_mode": {
    "name": "ipython",
    "version": 3
   },
   "file_extension": ".py",
   "mimetype": "text/x-python",
   "name": "python",
   "nbconvert_exporter": "python",
   "pygments_lexer": "ipython3",
   "version": "3.6.5"
  }
 },
 "nbformat": 4,
 "nbformat_minor": 2
}
